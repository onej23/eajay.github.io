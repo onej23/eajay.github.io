{
  "cells": [
    {
      "cell_type": "code",
      "execution_count": null,
      "metadata": {
        "deletable": false,
        "editable": false,
        "nbgrader": {
          "checksum": "e98069b3fc4364255bbf43f61ea7dcdc",
          "grade": false,
          "grade_id": "cell-46f0e98056392225",
          "locked": true,
          "schema_version": 1,
          "solution": false
        },
        "id": "qX4z6esaSNUv"
      },
      "outputs": [],
      "source": [
        "\n",
        "try:\n",
        "    import torch\n",
        "except:\n",
        "    from os.path import exists\n",
        "    from wheel.pep425tags import get_abbr_impl, get_impl_ver, get_abi_tag\n",
        "    platform = '{}{}-{}'.format(get_abbr_impl(), get_impl_ver(), get_abi_tag())\n",
        "    cuda_output = !ldconfig -p|grep cudart.so|sed -e 's/.*\\.\\([0-9]*\\)\\.\\([0-9]*\\)$/cu\\1\\2/'\n",
        "    accelerator = cuda_output[0] if exists('/dev/nvidia0') else 'cpu'\n",
        "\n",
        "    !pip install -q http://download.pytorch.org/whl/{accelerator}/torch-1.0.0-{platform}-linux_x86_64.whl torchvision\n",
        "\n",
        "try: \n",
        "    import torchbearer\n",
        "except:\n",
        "    !pip install torchbearer"
      ]
    },
    {
      "cell_type": "code",
      "execution_count": null,
      "metadata": {
        "deletable": false,
        "editable": false,
        "nbgrader": {
          "checksum": "438bd2f2f83ff9c7556aad79f11a461d",
          "grade": false,
          "grade_id": "cell-6d036cd09e565ad0",
          "locked": true,
          "schema_version": 1,
          "solution": false
        },
        "id": "D6J6EVxWSNUx"
      },
      "outputs": [],
      "source": [
        "import torch\n",
        "import torch.nn.functional as F\n",
        "import torchvision.transforms as transforms\n",
        "from torch import nn\n",
        "from torch import optim\n",
        "from torch.utils.data import DataLoader\n",
        "from torchvision.datasets import MNIST"
      ]
    },
    {
      "cell_type": "code",
      "execution_count": null,
      "metadata": {
        "deletable": false,
        "editable": false,
        "nbgrader": {
          "checksum": "add29d09a6d33468d43d434ce137ce4c",
          "grade": false,
          "grade_id": "cell-4a955106f453e11e",
          "locked": true,
          "schema_version": 1,
          "solution": false
        },
        "id": "4be5IQMJSNUx"
      },
      "outputs": [],
      "source": [
        "seed = 7\n",
        "torch.manual_seed(seed)\n",
        "torch.backends.cudnn.deterministic = True\n",
        "torch.backends.cudnn.benchmark = False\n",
        "import numpy as np\n",
        "np.random.seed(seed)"
      ]
    },
    {
      "cell_type": "code",
      "execution_count": null,
      "metadata": {
        "deletable": false,
        "editable": false,
        "nbgrader": {
          "checksum": "751bb0c3298d0e6d999dd85a448f734b",
          "grade": false,
          "grade_id": "cell-cb6a61ef1807b97c",
          "locked": true,
          "schema_version": 1,
          "solution": false
        },
        "id": "XRaMVAucSNUz"
      },
      "outputs": [],
      "source": [
        "# flatten 28*28 images to a 784 vector for each image  28*28 = 784\n",
        "transform = transforms.Compose([\n",
        "    transforms.ToTensor(),  # convert to tensor\n",
        "    transforms.Lambda(lambda x: x.view(-1))  # flatten into vector\n",
        "])"
      ]
    },
    {
      "cell_type": "code",
      "execution_count": null,
      "metadata": {
        "deletable": false,
        "editable": false,
        "nbgrader": {
          "checksum": "33578b54f937770aa5fde263ed002cac",
          "grade": false,
          "grade_id": "cell-a540569d1b188246",
          "locked": true,
          "schema_version": 1,
          "solution": false
        },
        "id": "ief10FbhSNU0"
      },
      "outputs": [],
      "source": [
        "trainset = MNIST(\".\", train=True, download=True, transform=transform)\n",
        "testset = MNIST(\".\", train=False, download=True, transform=transform)"
      ]
    },
    {
      "cell_type": "code",
      "execution_count": null,
      "metadata": {
        "deletable": false,
        "editable": false,
        "nbgrader": {
          "checksum": "f1ef180171d80ac56c32f91ffc1667fe",
          "grade": false,
          "grade_id": "cell-c847b428a365a8fb",
          "locked": true,
          "schema_version": 1,
          "solution": false
        },
        "id": "831RG8obSNU1"
      },
      "outputs": [],
      "source": [
        "# create data loaders\n",
        "trainloader = DataLoader(trainset, batch_size=128, shuffle=True) #shuffle 打乱数据\n",
        "testloader = DataLoader(testset, batch_size=128, shuffle=True)"
      ]
    },
    {
      "cell_type": "code",
      "execution_count": null,
      "metadata": {
        "id": "cHtD__hBSNU3"
      },
      "outputs": [],
      "source": [
        "# define baseline model\n",
        "class BaselineModel(nn.Module):\n",
        "    def __init__(self, input_size, hidden_size, num_classes): #input_size: 784 hidden_size: 784 num_classes 10\n",
        "        super(BaselineModel, self).__init__() #必须有 调用父辈初始化函数\n",
        "\n",
        "        # self.fc1 = nn.Linear(input_size, hidden_size) #784*784\n",
        "        # self.fc2 = nn.Linear(hidden_size, num_classes)  #784*10\n",
        "\n",
        "        self.fc1 = nn.Linear(input_size, hidden_size) #784*8\n",
        "        self.fc2 = nn.Linear(hidden_size, hidden_size)\n",
        "        self.fc3 = nn.Linear(hidden_size, hidden_size)  #8*8\n",
        "        self.fc4 = nn.Linear(hidden_size, num_classes) #8*10\n",
        "     \n",
        "    def forward(self, x): #前向传播 x是输入\n",
        "        out = self.fc1(x)  #先进行一次线性\n",
        "        out = F.relu(out)   #然后使用relu激活\n",
        "        out = self.fc2(out)  #先进行一次线性\n",
        "        out = F.relu(out)   #然后使用relu激活\n",
        "        out = self.fc3(out)  #先进行一次线性\n",
        "        out = F.relu(out)   #然后使用relu激活\n",
        "        out = self.fc4(out)  #再进行一次线性\n",
        "        # print('self:',self.training) #true\n",
        "        if not self.training: #后面老师有解释\n",
        "            out = F.softmax(out, dim=1)\n",
        "        return out"
      ]
    },
    {
      "cell_type": "code",
      "source": [
        "# model = BaselineModel(784, 15, 10) \n",
        "# print(model)"
      ],
      "metadata": {
        "colab": {
          "base_uri": "https://localhost:8080/"
        },
        "id": "toKd2oszrPdi",
        "outputId": "1d3183ea-6c6f-4204-8925-bd59eac084d2"
      },
      "execution_count": null,
      "outputs": [
        {
          "output_type": "stream",
          "name": "stdout",
          "text": [
            "BaselineModel(\n",
            "  (fc1): Linear(in_features=784, out_features=15, bias=True)\n",
            "  (fc2): Linear(in_features=15, out_features=15, bias=True)\n",
            "  (fc3): Linear(in_features=15, out_features=10, bias=True)\n",
            ")\n"
          ]
        }
      ]
    },
    {
      "cell_type": "markdown",
      "source": [
        ""
      ],
      "metadata": {
        "id": "25d016Rgq9QX"
      }
    },
    {
      "cell_type": "code",
      "execution_count": null,
      "metadata": {
        "id": "iztynQIGSNU3",
        "colab": {
          "base_uri": "https://localhost:8080/"
        },
        "outputId": "241bc318-e854-4e10-fe80-d7713fbf959c"
      },
      "outputs": [
        {
          "output_type": "stream",
          "name": "stdout",
          "text": [
            "Epoch 0, loss 260.64\n",
            "Epoch 1, loss 105.40\n",
            "Epoch 2, loss 84.40\n",
            "Epoch 3, loss 71.28\n",
            "Epoch 4, loss 63.27\n",
            "Epoch 5, loss 58.03\n",
            "Epoch 6, loss 53.71\n",
            "Epoch 7, loss 51.14\n",
            "Epoch 8, loss 48.06\n",
            "Epoch 9, loss 45.62\n",
            "Epoch 10, loss 44.07\n",
            "Epoch 11, loss 42.39\n",
            "Epoch 12, loss 41.19\n",
            "Epoch 13, loss 39.93\n",
            "Epoch 14, loss 38.06\n",
            "Running time(CPU): 107.39117550849915 Seconds\n",
            "**** Finished Training ****\n"
          ]
        }
      ],
      "source": [
        "import time\n",
        "import scipy.integrate as integrate\n",
        "import scipy\n",
        "from scipy import io\n",
        "start =time.time()\n",
        "\n",
        "model = BaselineModel(784, 20, 10)  #(self, input_size, hidden_size, num_classes)\n",
        "\n",
        "loss_function = nn.CrossEntropyLoss()\n",
        "# optimiser = optim.Adam(model.parameters(),lr=0.001)  #根据loss-function去优化model = BaselineModel(784, 784, 10)\n",
        "optimiser = optim.Adadelta(model.parameters())  #根据loss-function去优化model = BaselineModel(784, 784, 10)\n",
        "\n",
        "f1_tmp = []\n",
        "f2_tmp = []\n",
        "f3_tmp = []\n",
        "f4_tmp = []\n",
        "\n",
        "b1_tmp = []\n",
        "b2_tmp= []\n",
        "b3_tmp = []\n",
        "b4_tmp = []\n",
        "\n",
        "loss_mse = []\n",
        "for epoch in range(15):\n",
        "    running_loss = 0.0\n",
        "\n",
        "    for data in trainloader:\n",
        "        # get the inputs\n",
        "        inputs, labels = data #inputs[128,784] 一个epoch里面128个图片 一个图片784列 labels[128] 对应128个图片的标签\n",
        "\n",
        "        optimiser.zero_grad()\n",
        "\n",
        "        outputs = model(inputs) #inputs[128,784]\n",
        "        \n",
        "        loss = loss_function(outputs, labels)\n",
        "        loss.backward()\n",
        "        optimiser.step()\n",
        "\n",
        "        layer1 = model.fc1.state_dict()\n",
        "        layer2 = model.fc2.state_dict()\n",
        "        layer3 = model.fc3.state_dict()\n",
        "        layer4 = model.fc4.state_dict()\n",
        "\n",
        "        f1_tmp.append(np.array(layer1['weight']))\n",
        "        f2_tmp.append(np.array(layer2['weight']))\n",
        "        f3_tmp.append(np.array(layer3['weight']))\n",
        "        f4_tmp.append(np.array(layer4['weight']))\n",
        "\n",
        "        b1_tmp.append(np.array(layer1['bias']))\n",
        "        b2_tmp.append(np.array(layer2['bias']))\n",
        "        b3_tmp.append(np.array(layer3['bias']))\n",
        "        b4_tmp.append(np.array(layer4['bias']))\n",
        "\n",
        "        running_loss += loss.item()\n",
        "    loss_mse.append(running_loss)    \n",
        "    print(\"Epoch %d, loss %4.2f\" % (epoch, running_loss))\n",
        "\n",
        "end=time.time()\n",
        "print('Running time(CPU): %s Seconds'%(end-start)) #Running time(CPU): 93.36983489990234 Seconds\n",
        "print('**** Finished Training ****')"
      ]
    },
    {
      "cell_type": "code",
      "source": [
        "import matplotlib.pyplot as plt # ej 画的loss\n",
        "\n",
        "\n",
        "x = torch.linspace(0,15,15)\n",
        "# print(loss)\n",
        "# plt.plot(x,loss[0],c='r')\n",
        "plt.plot(x,loss_mse,c='r')\n",
        "\n",
        "plt.title('Cross Entropy Loss',fontsize=14)\n",
        "plt.xlabel('Epochs',fontsize=14)\n",
        "plt.ylabel('Cross_Entropy_Loss',fontsize=14)\n"
      ],
      "metadata": {
        "colab": {
          "base_uri": "https://localhost:8080/",
          "height": 317
        },
        "id": "JI7yNKSUyzYY",
        "outputId": "7f427700-9fdf-4ab2-b490-2ba9e2744b41"
      },
      "execution_count": null,
      "outputs": [
        {
          "output_type": "execute_result",
          "data": {
            "text/plain": [
              "Text(0, 0.5, 'Cross_Entropy_Loss')"
            ]
          },
          "metadata": {},
          "execution_count": 211
        },
        {
          "output_type": "display_data",
          "data": {
            "text/plain": [
              "<Figure size 432x288 with 1 Axes>"
            ],
            "image/png": "[encoded data removed]"
          },
          "metadata": {
            "needs_background": "light"
          }
        }
      ]
    },
    {
      "cell_type": "code",
      "source": [
        "layer = model.fc3.state_dict()\n",
        "print(layer['weight'].shape)\n",
        "# print(layer['bias'])\n",
        "# print(np.array(b1_tmp).shape)\n",
        "# print(np.array(b1_tmp[1]))\n",
        "# print(np.array(f3_tmp).shape)\n",
        "# print(np.array(f3_tmp[20]))\n",
        "# a  = np.array(f3_tmp[1])\n",
        "# b  = np.array(f3_tmp[100])\n",
        "# np.array_equal(a,b)"
      ],
      "metadata": {
        "colab": {
          "base_uri": "https://localhost:8080/"
        },
        "id": "jHsTzfJgQ7Xr",
        "outputId": "62f1c6ae-72ab-4c18-eb41-5c15b8656af2"
      },
      "execution_count": null,
      "outputs": [
        {
          "output_type": "stream",
          "name": "stdout",
          "text": [
            "torch.Size([10, 15])\n"
          ]
        }
      ]
    },
    {
      "cell_type": "code",
      "source": [
        "# print(np.array(f1_tmp).shape)\n",
        "# print(np.array(f1_tmp).shape)\n",
        "scipy.io.savemat('FC1.mat', {'FC1': f1_tmp})\n",
        "scipy.io.savemat('FC2.mat', {'FC2': f2_tmp})\n",
        "scipy.io.savemat('FC3.mat', {'FC3': f3_tmp})\n",
        "scipy.io.savemat('FC4.mat', {'FC4': f4_tmp})\n",
        "scipy.io.savemat('b1.mat', {'B1': b1_tmp})\n",
        "scipy.io.savemat('b2.mat', {'B2': b2_tmp})\n",
        "scipy.io.savemat('b3.mat', {'B3': b3_tmp})\n",
        "scipy.io.savemat('b4.mat', {'B4': b4_tmp})\n",
        "# scipy.io.savemat('test.mat', {'FC1': f1_tmp})"
      ],
      "metadata": {
        "id": "UpnCLKEdY6W8"
      },
      "execution_count": null,
      "outputs": []
    },
    {
      "cell_type": "code",
      "source": [
        "# print(np.array(f1_tmp).shape)\n",
        "# print(np.array(f1_tmp[4266]))\n",
        "# scipy.io.savemat('FC2.mat', {'FC2': f2_tmp})"
      ],
      "metadata": {
        "id": "Bz5EZOrusIp7",
        "colab": {
          "base_uri": "https://localhost:8080/"
        },
        "outputId": "836b13cb-8af8-4318-91be-99e62f234ff5"
      },
      "execution_count": null,
      "outputs": [
        {
          "output_type": "stream",
          "name": "stdout",
          "text": [
            "(4690, 10, 784)\n",
            "[[-0.03377093 -0.00504475  0.01581838 ...  0.00904136  0.0259698\n",
            "  -0.03515424]\n",
            " [-0.00992687 -0.02652802 -0.01304659 ...  0.02239924 -0.02326629\n",
            "   0.02559799]\n",
            " [-0.00912324  0.00201515 -0.02117907 ...  0.03380657  0.01222465\n",
            "   0.035463  ]\n",
            " ...\n",
            " [-0.01989166 -0.03122515 -0.02524178 ... -0.01304739 -0.01243589\n",
            "  -0.00077624]\n",
            " [-0.02392267  0.03128301  0.03566968 ...  0.01202069 -0.02305736\n",
            "   0.02444376]\n",
            " [ 0.01972819 -0.02840354 -0.00592689 ...  0.00345186  0.02009589\n",
            "   0.03302803]]\n"
          ]
        }
      ]
    },
    {
      "cell_type": "markdown",
      "source": [
        "(4690, 10, 784)\n",
        "[[-0.01908846 -0.00535276 -0.02092243 ... -0.02273466 -0.01031135\n",
        "  -0.00423497]\n",
        " [-0.01075637 -0.01572868 -0.00961933 ... -0.01968317 -0.01926269\n",
        "   0.00614829]\n",
        " [ 0.01738293  0.01869999  0.0356869  ... -0.0299047  -0.00977882\n",
        "   0.03546996]\n",
        " ...\n",
        " [ 0.00898107 -0.03377498  0.02263777 ...  0.03295657  0.01710314\n",
        "  -0.01144409]\n",
        " [ 0.02688853 -0.00144087  0.00321078 ...  0.02152635  0.03433807\n",
        "   0.0023303 ]\n",
        " [ 0.03233566 -0.03430497 -0.02689921 ... -0.00212233 -0.03531493\n",
        "  -0.01151305]]"
      ],
      "metadata": {
        "id": "Gyr3wdEHBbbf"
      }
    },
    {
      "cell_type": "code",
      "execution_count": null,
      "metadata": {
        "deletable": false,
        "nbgrader": {
          "checksum": "bf7f8d7a58c1000cdc77b53eb16b3e74",
          "grade": true,
          "grade_id": "cell-13268e61111fdb7e",
          "locked": false,
          "points": 5,
          "schema_version": 1,
          "solution": true
        },
        "id": "26VjjR4LSNU4",
        "colab": {
          "base_uri": "https://localhost:8080/"
        },
        "outputId": "d9e03f82-7506-4026-dd90-dc6a6bac6770"
      },
      "outputs": [
        {
          "output_type": "stream",
          "name": "stdout",
          "text": [
            "Test Accuracy: 92.73 %\n"
          ]
        }
      ],
      "source": [
        "model.eval()\n",
        "\n",
        "# Compute the model accuracy on the test set\n",
        "correct = 0# scipy.io.savemat('test.mat', {'FC1': f1_tmp})\n",
        "total = 0\n",
        "\n",
        "# YOUR CODE HERE\n",
        "for (images, labels) in testloader:\n",
        "  # print(labels.shape)\n",
        "  out = model(images)         #out[128,10] 输出128个图片 对应10个标签的可能性大小) \n",
        "  # print('out:',out.shape)        #out: torch.Size([128, 10]) 最后一个out: torch.Size([16, 10])\n",
        "  total += labels.shape[0]        #labels.shape[0] = 128 * n\n",
        "  for i in range(out.shape[0]):     #一个epoc=128 分了n个epoch\n",
        "    A,prediction = out[i].max(0)    #每一个epoch 输出最大的那个值\n",
        "    # print('A:',A)           #A: tensor(1.0000, grad_fn=<MaxBackward0>) A: tensor(0.9986, grad_fn=<MaxBackward0>)\n",
        "    # print('prediction:',prediction)  #prediction: tensor(9)\n",
        "    if prediction == labels[i]:\n",
        "      correct +=1\n",
        "print('Test Accuracy: %2.2f %%' % ((100.0 * correct) / total))"
      ]
    },
    {
      "cell_type": "markdown",
      "metadata": {
        "deletable": false,
        "editable": false,
        "nbgrader": {
          "checksum": "bc70fc40020d8fdecbe95f65eddc8d8d",
          "grade": false,
          "grade_id": "cell-8c5589e8e96c3bff",
          "locked": true,
          "schema_version": 1,
          "solution": false
        },
        "id": "_HwtLFHWSNU4"
      },
      "source": [
        "__In multi-class classification tasks it is often instructive to explore the accuracy of each class. Use the code block below to complete the function that produces the per-class accuracy:__"
      ]
    },
    {
      "cell_type": "code",
      "source": [
        "# Compute the model accuracy on the test set\n",
        "class_correct = torch.zeros(10)\n",
        "class_total = torch.zeros(10)\n",
        "\n",
        "for (images, labels) in testloader:\n",
        "\n",
        "  for label in labels:\n",
        "    class_total[label] += 1 #统计label的总数 label: tensor(4) label: tensor(2)\n",
        "  \n",
        "  outputs = model(images)\n",
        "  for i in range(outputs.shape[0]):\n",
        "    _, prediction = outputs[i].max(0) #_，p_close是因为那个函数是有两个返回值的，如果只给一个参数去接受就变成了返回一个list 如果不需要用到变量_，这样用起来舒服点而已\n",
        "    if prediction == labels[i]:\n",
        "      class_correct[labels[i]] += 1\n",
        "\n",
        "for i in range(10):\n",
        "    print('Class %d accuracy: %2.2f %%' % (i, 100.0*class_correct[i] / class_total[i]))"
      ],
      "metadata": {
        "colab": {
          "base_uri": "https://localhost:8080/"
        },
        "id": "3ll44yNXQELX",
        "outputId": "77c66243-8a97-4d10-f92e-02ce0cf42b6e"
      },
      "execution_count": null,
      "outputs": [
        {
          "output_type": "stream",
          "name": "stdout",
          "text": [
            "Class 0 accuracy: 96.33 %\n",
            "Class 1 accuracy: 97.89 %\n",
            "Class 2 accuracy: 90.99 %\n",
            "Class 3 accuracy: 90.99 %\n",
            "Class 4 accuracy: 94.81 %\n",
            "Class 5 accuracy: 85.09 %\n",
            "Class 6 accuracy: 96.56 %\n",
            "Class 7 accuracy: 92.12 %\n",
            "Class 8 accuracy: 88.19 %\n",
            "Class 9 accuracy: 93.06 %\n"
          ]
        }
      ]
    }
  ],
  "metadata": {
    "kernelspec": {
      "display_name": "Python 3",
      "language": "python",
      "name": "python3"
    },
    "language_info": {
      "codemirror_mode": {
        "name": "ipython",
        "version": 3
      },
      "file_extension": ".py",
      "mimetype": "text/x-python",
      "name": "python",
      "nbconvert_exporter": "python",
      "pygments_lexer": "ipython3",
      "version": "3.6.7"
    },
    "colab": {
      "name": "dl_cousework.ipynb",
      "provenance": [],
      "collapsed_sections": [],
      "machine_shape": "hm"
    }
  },
  "nbformat": 4,
  "nbformat_minor": 0
}